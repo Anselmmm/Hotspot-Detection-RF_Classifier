{
 "cells": [
  {
   "cell_type": "markdown",
   "metadata": {
    "toc": true
   },
   "source": [
    "<h1>Table of Contents<span class=\"tocSkip\"></span></h1>\n",
    "<div class=\"toc\"><ul class=\"toc-item\"><li><span><a href=\"#GEE-Authentication\" data-toc-modified-id=\"GEE-Authentication-1\"><span class=\"toc-item-num\">1&nbsp;&nbsp;</span>GEE Authentication</a></span></li><li><span><a href=\"#Map-Loading\" data-toc-modified-id=\"Map-Loading-2\"><span class=\"toc-item-num\">2&nbsp;&nbsp;</span>Map Loading</a></span><ul class=\"toc-item\"><li><span><a href=\"#Hardcoded-Inputs-(Change-the-values-in-this)\" data-toc-modified-id=\"Hardcoded-Inputs-(Change-the-values-in-this)-2.1\"><span class=\"toc-item-num\">2.1&nbsp;&nbsp;</span>Hardcoded Inputs (Change the values in this)</a></span></li><li><span><a href=\"#Data-Extraction-and-Visualization\" data-toc-modified-id=\"Data-Extraction-and-Visualization-2.2\"><span class=\"toc-item-num\">2.2&nbsp;&nbsp;</span>Data Extraction and Visualization</a></span></li></ul></li><li><span><a href=\"#Labelling-and-Subsequent-Exportation\" data-toc-modified-id=\"Labelling-and-Subsequent-Exportation-3\"><span class=\"toc-item-num\">3&nbsp;&nbsp;</span>Labelling and Subsequent Exportation</a></span></li></ul></div>"
   ]
  },
  {
   "cell_type": "markdown",
   "metadata": {},
   "source": [
    "# GEE Authentication"
   ]
  },
  {
   "cell_type": "markdown",
   "metadata": {},
   "source": [
    "Users will first need to authenticate and initialize GEE's Python API based on the cell below using their gmail. The steps required to do so will be listed when the cell below is run."
   ]
  },
  {
   "cell_type": "code",
   "execution_count": null,
   "metadata": {
    "ExecuteTime": {
     "end_time": "2022-03-29T09:40:36.525399Z",
     "start_time": "2022-03-29T09:40:19.041586Z"
    }
   },
   "outputs": [],
   "source": [
    "# Importing all modules needed for this notebook\n",
    "%reset -f\n",
    "import os\n",
    "import ee\n",
    "import geemap\n",
    "import pandas as pd\n",
    "\n",
    "# Trigger the authentication flow.\n",
    "ee.Authenticate()\n",
    "\n",
    "# Initialize the library.\n",
    "ee.Initialize()"
   ]
  },
  {
   "cell_type": "markdown",
   "metadata": {},
   "source": [
    "# Map Loading"
   ]
  },
  {
   "cell_type": "markdown",
   "metadata": {},
   "source": [
    "This section then reads data based off *EventsList.xlsx* in the Data folder for either fire or lava images across both satellite types. Loaded images can then be annotated on (labelling), where both the labelled data and the image can be saved thereafter in the following section. All images are based off the surface reflectance products of [Sentinel-2](https://developers.google.com/earth-engine/datasets/catalog/COPERNICUS_S2_SR) and [Landsat 8](https://developers.google.com/earth-engine/datasets/catalog/LANDSAT_LC08_C02_T1_L2).\n",
    "\n",
    "Lava images are defined based on centering the loaded image on the Volcano's coordinates, while fire images are defined based on centering the loaded image of a given burnt area. The difference however, is that fire images are further specified based on how the satellite splits Earth into 100 x 100$km^{2}$ grids (or tiles), where the grids can be accessed from this .kml file [here](https://sentinel.esa.int/documents/247904/1955685/S2A_OPER_GIP_TILPAR_MPC__20151209T095117_V20150622T000000_21000101T000000_B00.kml).\n",
    "\n",
    "In other words, the grid naming convention in Sentinel-2 **does not** apply to Landsat 8, whereby if one were to introduce Landsat 8 data for fire images in the future, it would have to use an entirely different grid system (see ***Figure 3 of [this paper](https://www.researchgate.net/publication/317095580_Combined_Use_of_Landsat-8_and_Sentinel-2A_Images_for_Winter_Crop_Mapping_and_Winter_Wheat_Yield_Assessment_at_Regional_Scale)*** as an example). "
   ]
  },
  {
   "cell_type": "markdown",
   "metadata": {},
   "source": [
    "## Hardcoded Inputs (Change the values in this)"
   ]
  },
  {
   "cell_type": "code",
   "execution_count": null,
   "metadata": {
    "ExecuteTime": {
     "end_time": "2022-03-29T10:57:17.167525Z",
     "start_time": "2022-03-29T10:57:17.157526Z"
    }
   },
   "outputs": [],
   "source": [
    "# The main directory in which data is kept\n",
    "homeDir = r'C:\\Users\\ansel\\Desktop\\MSS Internship Stuff\\Data'\n",
    "\n",
    "# The satellite and image type (lava or fire) for which we want to extract data for.\n",
    "    # Currently, the dataset (from EventsList.xlsx) only contains S2 Fire, S2 Lava, and LS8 Lava images \n",
    "satellite = \"S2\"\n",
    "hotspot = 'fire'\n",
    "\n",
    "# [FIXED] Ensuring we only look at 5km x 5km images at all times\n",
    "bufferRange = 5000"
   ]
  },
  {
   "cell_type": "markdown",
   "metadata": {},
   "source": [
    "## Data Extraction and Visualization"
   ]
  },
  {
   "cell_type": "code",
   "execution_count": null,
   "metadata": {
    "ExecuteTime": {
     "end_time": "2022-03-29T10:57:18.152992Z",
     "start_time": "2022-03-29T10:57:17.416322Z"
    }
   },
   "outputs": [],
   "source": [
    "# Finding the path where the excel file is kept\n",
    "    # i.e., ...\\Data\\EventsList.xlsx\n",
    "excelPath = os.path.join(homeDir,'EventsList.xlsx')\n",
    "\n",
    "# Defining the destination directory in which files will eventually be saved\n",
    "    # i.e., ...\\Data\\Lava Images\\S2\\...\n",
    "destDir = os.path.join(homeDir,hotspot.capitalize() + 'Images',satellite)\n",
    "\n",
    "# Reading excel database as a dataframe\n",
    "# Creating a new column that represents potential subfolder (child directory) names\n",
    "# Finding the smallest index where the child directory value of ['childDir'] does not exist as a true directory\n",
    "    # So that the code knows the event corresponding to this child directory has not been read yet\n",
    "    # Template for Lava images follow (Volcano followed by date):\n",
    "        # i.e., ...\\Data\\Lava Images\\LS8\\Agung-20180728\n",
    "    # Tempalte for fire images (only S2) follow (S2 Grid followed by date and number of images for that same grid and date):\n",
    "        # i.e., ...\\Data\\Fire Images\\S2\\46QEJ-20190320[0]\n",
    "if hotspot == 'lava':\n",
    "    df = pd.read_excel(excelPath,sheet_name=satellite,header=0)\n",
    "    df['Date'] = df['Date'].astype(str) # Converting timestamp object to string\n",
    "    df['childDir'] = homeDir + '\\\\' + hotspot.capitalize() + '\\\\' + satellite + '\\\\' + df['Volcano'].apply(lambda v: v.capitalize()) + '-' + df['Date'].replace('-','',regex=True)\n",
    "elif hotspot == 'fire':\n",
    "    df = pd.read_excel(excelPath,sheet_name=hotspot.capitalize(),header=0)\n",
    "    df['Date'] = df['Date'].astype(str) # Converting timestamp object to string\n",
    "    df['childDir'] = homeDir + '\\\\' + hotspot.capitalize() + '\\\\' + satellite + '\\\\' + df['Tile'] + '-' + df['Date'].replace('-','',regex=True) + '[' + df['Count'].astype(str) + ']'\n",
    "\n",
    "    \n",
    "# Finding the index of the file to be read (a file whose childDir does not exist yet)\n",
    "    # idx is therefore the most important variable here as all other data required for loading the map rests on this variable.\n",
    "pathBool = df['childDir'].apply(os.path.isdir)\n",
    "if pathBool.sum() == len(df.index):\n",
    "    idx = 0\n",
    "    # raise KeyboardInterrupt('All files have already been read and downloaded before.')\n",
    "else:\n",
    "    idx = pathBool.idxmin()\n",
    "childDir = df.loc[idx,'childDir']\n",
    "\n",
    "\n",
    "# Defining key details necessary for data extraction.\n",
    "    # Tile name and corresponding burnt area lat/lon for fire images\n",
    "    # Volcano and corresponding lat/lon for lava images\n",
    "if hotspot == 'fire':\n",
    "    Lon = df.loc[idx,'Lon']\n",
    "    Lat = df.loc[idx,'Lat']\n",
    "    tile = df.loc[idx,'Tile']\n",
    "elif hotspot == 'lava':\n",
    "    coords = {'agung':(-8.343,115.508),\n",
    "             'bromo':(-7.942,112.95),\n",
    "             'dukono':(1.7,127.8667),\n",
    "             'gamalama':(0.8,127.33),\n",
    "             'ibu':(1.488,127.63),\n",
    "             'karangetang':(2.781,125.407),\n",
    "             'kerinci':(-1.697,101.233),\n",
    "             'krakatau':(-6.1021,105.4230),\n",
    "             'lewotolo':(-8.3,123.5050),\n",
    "             'marapi':(-0.38,100.4742),\n",
    "             'merapi':(-7.5407,110.4457),\n",
    "             'mayon':(13.257,123.685),\n",
    "             'raung':(-8.119,114.056),\n",
    "             'sangeangapi':(-8.2,119.07),\n",
    "             'sinabung':(3.1696,98.3930),\n",
    "             'sirung':(-8.508,124.13),\n",
    "             'semeru':(-8.1077,112.9224),\n",
    "             'soputan':(1.11298,124.72916),\n",
    "             'taal':(14.0113,120.9977),\n",
    "             'hthh':(-20.536,-175.382),\n",
    "             'pinatubo':(15.1429,120.3496)}\n",
    "    volc = df.loc[idx,'Volcano']\n",
    "    Lon = coords[volc][1]\n",
    "    Lat = coords[volc][0]\n",
    "\n",
    "\n",
    "# Loading the date of the event.\n",
    "date = df.loc[idx,'Date']    \n",
    "startDate = '%sT00:00:00' % date\n",
    "endDate = '%sT23:59:00' % date\n",
    "    \n",
    "# First identifying the area of interest (aoi), and generating a base map for the image to be displayed on later using geemap.\n",
    "aoi = ee.Geometry.Point(Lon, Lat)\n",
    "Map = geemap.Map(center=[Lat,Lon], zoom=13)\n",
    "\n",
    "\n",
    "# Bands in common between LS8 & S2\n",
    "    # S2 - B1, B2, B3, B4, B8A, B11, B12, NDVI, NBR, IWCD\n",
    "    # LS8 - SR_B1, SR_B2, SR_B3, SR_B4, SR_B5, SR_B6, SR_B7, NDVI, NBR, IWCD\n",
    "if satellite == 'S2':\n",
    "    S2_features = ['B1', 'B2', 'B3', 'B4', 'B8A', 'B11', 'B12', 'NDVI', 'NBR', 'IWCD']\n",
    "    \n",
    "    # Different extraction method for lava and fire images (latter also requires specifying the MGRS_TILE)\n",
    "        # Regardless of hotspot type, we scale all the bands first before we define the 3 feature engineered bands (NDVI, NBR & IWCD)\n",
    "    if hotspot == 'lava':\n",
    "        image = ee.ImageCollection('COPERNICUS/S2_SR')\\\n",
    "                  .filterBounds(aoi)\\\n",
    "                  .filterDate(startDate,endDate)\\\n",
    "                  .map(lambda img: img.divide(10000).copyProperties(img,img.propertyNames()))\\\n",
    "                  .map(lambda img: img.addBands(img.normalizedDifference(['B8','B4']).rename('NDVI')))\\\n",
    "                  .map(lambda img: img.addBands(img.normalizedDifference(['B8','B12']).rename('NBR')))\\\n",
    "                  .map(lambda img: img.addBands(img.select('B4').subtract(img.select('B11')).rename('IWCD')))\\\n",
    "                  .first().select(S2_features)\n",
    "    elif hotspot == 'fire':\n",
    "        image = ee.ImageCollection('COPERNICUS/S2_SR')\\\n",
    "                  .filterMetadata('MGRS_TILE','equals',tile)\\\n",
    "                  .filterBounds(aoi)\\\n",
    "                  .filterDate(startDate,endDate)\\\n",
    "                  .map(lambda img: img.divide(10000).copyProperties(img,img.propertyNames()))\\\n",
    "                  .map(lambda img: img.addBands(img.normalizedDifference(['B8','B4']).rename('NDVI')))\\\n",
    "                  .map(lambda img: img.addBands(img.normalizedDifference(['B8','B12']).rename('NBR')))\\\n",
    "                  .map(lambda img: img.addBands(img.select('B4').subtract(img.select('B11')).rename('IWCD')))\\\n",
    "                  .first().select(S2_features)\n",
    "    \n",
    "    # Color stretching is fixed to enable consistent display of images for all S2 images.\n",
    "    Map.addLayer(image.clip(aoi.buffer(bufferRange)),\n",
    "                 {'bands':['B12','B8A','B4'],'min':0,'max':1.6},\n",
    "                 '0 to 1.6 range')\n",
    "    \n",
    "\n",
    "elif satellite == 'LS8':\n",
    "    LS8_features = ['SR_B1', 'SR_B2', 'SR_B3', 'SR_B4', 'SR_B5', 'SR_B6', 'SR_B7', 'NDVI', 'NBR', 'IWCD']\n",
    "    \n",
    "    # Only for lava images\n",
    "        # Regardless of hotspot type, we scale all the bands first before we define the 3 feature engineered bands (NDVI, NBR & IWCD)\n",
    "    image = ee.ImageCollection('LANDSAT/LC08/C02/T1_L2')\\\n",
    "              .filterBounds(aoi)\\\n",
    "              .filterDate(startDate,endDate)\\\n",
    "              .map(lambda img: img.addBands(img.select('SR_B.').multiply(0.0000275).add(-0.2), None, True).copyProperties(img,img.propertyNames()))\\\n",
    "              .map(lambda img: img.addBands(img.normalizedDifference(['SR_B5','SR_B4']).rename('NDVI')))\\\n",
    "              .map(lambda img: img.addBands(img.normalizedDifference(['SR_B5','SR_B7']).rename('NBR')))\\\n",
    "              .map(lambda img: img.addBands(img.select('SR_B4').subtract(img.select('SR_B6')).rename('IWCD')))\\\n",
    "              .first().select(LS8_features)\n",
    "    \n",
    "    # Color stretching is fixed to enable consistent display of images for all LS8 images.\n",
    "    Map.addLayer(image.clip(aoi.buffer(bufferRange)),\n",
    "                 {'bands':['SR_B7','SR_B5','SR_B4'],'min':-0.003,'max':0.75},\n",
    "                 '-0.003 to 0.75 range')\n",
    "    \n",
    "else:\n",
    "    raise ValueError('Select the right satellite - \"S2\" or \"LS8\".')\n",
    "\n",
    "# Before the map is displayed, the event of interest is printed for better readability.\n",
    "if hotspot == 'lava':\n",
    "    print('Lava Image: %s, %s' % (volc.capitalize(),date))\n",
    "elif hotspot == 'fire':\n",
    "    print('Fire Image: Tile %s, %s, Image #%d' % (tile,date,df.loc[idx,'Count']))\n",
    "    \n",
    "# Displaying the selected image.\n",
    "display(Map)"
   ]
  },
  {
   "cell_type": "markdown",
   "metadata": {},
   "source": [
    "# Labelling and Subsequent Exportation"
   ]
  },
  {
   "cell_type": "markdown",
   "metadata": {},
   "source": [
    "After you have loaded the map above, you can then proceed to label the clear pixels as individual polygons (see **[this tutorial](https://www.youtube.com/watch?v=N7rK2aV1R4c&list=PLAxJ4-o7ZoPccOFv1dCwvGI6TYnirRTg3&index=7&ab_channel=QiushengWu)** for drawing tools on geemap).\n",
    "\n",
    "The cell below will then label the polygons in the order that they were drawn, where then these polygons will be exported as a vector (.shp) file and the image as a raster (.tif) file thereafter (see **[this tutorial](https://www.youtube.com/watch?v=_6JOA-iiEGU&list=PLAxJ4-o7ZoPccOFv1dCwvGI6TYnirRTg3&index=13&ab_channel=QiushengWu)** for exporting data using GEE and geemap)."
   ]
  },
  {
   "cell_type": "code",
   "execution_count": null,
   "metadata": {
    "ExecuteTime": {
     "end_time": "2022-03-29T11:05:40.327125Z",
     "start_time": "2022-03-29T11:05:40.319180Z"
    }
   },
   "outputs": [],
   "source": [
    "# MUST CHANGE THIS FOR EVERY LABELLED IMAGE\n",
    "    # label the polygons in the order that they were required, i.e., ['fire', 'fire', 'fire', 'vegetation', 'cloud', 'shadow']\n",
    "classes = []\n",
    "\n",
    "# Convert drawn polygons above to a feature collection\n",
    "shapesMap = ee.FeatureCollection(Map.draw_features)\n",
    "\n",
    "# A sanity check to ensure the number of labelled classes equals the number of polygons created\n",
    "if len(classes) != shapesMap.size().getInfo():\n",
    "    raise ValueError('Number of classes defined (%d) not equals to total polygons drawn (%d).' % \n",
    "                    (len(classes), shapesMap.size().getInfo()))\n",
    "    \n",
    "# Converting featurecollection to list of properties, and zipping values of classes to each feature (list of 2-element lists)\n",
    "shapesZipped = shapesMap.toList(shapesMap.size()).zip(ee.List(classes))\n",
    "\n",
    "# Recreating the polygons by combining each 2-element list (feature + new class value) into a new feature collection\n",
    "shapes = ee.FeatureCollection(shapesZipped.map(lambda l: ee.Feature(ee.List(l).get(0)).set('class',ee.List(l).get(1))))\n",
    "\n",
    "# Defining paths for the vector and raster files, and also creating the child directories if they don't exist\n",
    "rasterfileOut = os.path.join(childDir,\"raster.tif\")\n",
    "shapefileOut = os.path.join(childDir,\"vector.shp\")\n",
    "if not os.path.isdir(childDir):\n",
    "    os.mkdir(childDir)\n",
    "    \n",
    "# Saving the resultant feature collection\n",
    "geemap.ee_to_shp(shapes, shapefileOut)\n",
    "\n",
    "# Saving the raster file too\n",
    "    # Fixed scale of 30m for both Sentinel-2 and Landsat 8 data for standardization purposes.\n",
    "    # All 10 bands are saved as a single .tif file\n",
    "    # Only saving a 5km x 5km area centered on either the burnt area (for fire images) or the volcano (for lava images)\n",
    "geemap.ee_export_image(image, filename = rasterfileOut, scale = 30, \n",
    "                       region = aoi.buffer(bufferRange), file_per_band = False)"
   ]
  }
 ],
 "metadata": {
  "hide_input": false,
  "kernelspec": {
   "display_name": "Python 3 (ipykernel)",
   "language": "python",
   "name": "python3"
  },
  "language_info": {
   "codemirror_mode": {
    "name": "ipython",
    "version": 3
   },
   "file_extension": ".py",
   "mimetype": "text/x-python",
   "name": "python",
   "nbconvert_exporter": "python",
   "pygments_lexer": "ipython3",
   "version": "3.9.7"
  },
  "toc": {
   "base_numbering": 1,
   "nav_menu": {},
   "number_sections": true,
   "sideBar": true,
   "skip_h1_title": false,
   "title_cell": "Table of Contents",
   "title_sidebar": "Contents",
   "toc_cell": true,
   "toc_position": {},
   "toc_section_display": true,
   "toc_window_display": false
  }
 },
 "nbformat": 4,
 "nbformat_minor": 4
}
